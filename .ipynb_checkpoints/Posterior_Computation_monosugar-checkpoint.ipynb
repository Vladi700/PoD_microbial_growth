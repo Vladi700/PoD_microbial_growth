{
 "cells": [
  {
   "cell_type": "code",
   "execution_count": 1,
   "id": "b18a9c30-f286-4f25-b4de-045b0d74f995",
   "metadata": {},
   "outputs": [],
   "source": [
    "import os\n",
    "import re\n",
    "import time\n",
    "import numpy as np\n",
    "import pandas as pd\n",
    "import corner\n",
    "import matplotlib.pyplot as plt\n",
    "import sys\n",
    "import functions_model2 as model2"
   ]
  },
  {
   "cell_type": "code",
   "execution_count": 2,
   "id": "553f4678-b109-45e6-91e3-e3daabe5cb33",
   "metadata": {},
   "outputs": [],
   "source": [
    "def thin_discard(chain,discard=0,thin=1):\n",
    "    \n",
    "    if len(chain.shape)==3:\n",
    "        print(\"3d chain detected\")\n",
    "        #discard\n",
    "        temp=chain[discard:,:,:]\n",
    "        #thinning\n",
    "        thin_mask=np.arange(0,temp.shape[0],thin)\n",
    "        temp=temp[thin_mask,:,:]\n",
    "    elif len(chain.shape)==2:\n",
    "        print(\"Flat chain detected\")\n",
    "        #discard\n",
    "        temp=chain[discard:,:]\n",
    "        #thinning\n",
    "        thin_mask=np.arange(0,temp.shape[0],thin)\n",
    "        temp=temp[thin_mask,:]\n",
    "    else: print(\"Wrong shape\")\n",
    "        \n",
    "    return temp"
   ]
  },
  {
   "cell_type": "markdown",
   "id": "1e2ba90f-b689-4618-a236-07bcbc27d432",
   "metadata": {},
   "source": [
    "# Load chain (single sugar)"
   ]
  },
  {
   "cell_type": "code",
   "execution_count": 3,
   "id": "1b21e82a-9dd8-4316-add4-3dae032c8557",
   "metadata": {},
   "outputs": [
    {
     "name": "stdout",
     "output_type": "stream",
     "text": [
      "['chain_Ace.txt', 'chain_DMa.txt', 'chain_Glu.txt', 'chain_Gly.txt', 'chain_Lac.txt', 'chain_Pyr.txt', 'chain_Rha.txt', 'chain_Suc.txt', 'chain_Xyl.txt']\n",
      "['Ace', 'DMa', 'Glu', 'Gly', 'Lac', 'Pyr', 'Rha', 'Suc', 'Xyl']\n"
     ]
    }
   ],
   "source": [
    "sugar_list=[]\n",
    "file_list=os.listdir(\"./chains\")\n",
    "print(file_list)\n",
    "\n",
    "for filename in file_list:\n",
    "    begin=filename.find(\"_\")\n",
    "    end=filename.find(\".txt\")\n",
    "    sugar_list.append(filename[begin+1:end])\n",
    "\n",
    "#sugar_list.remove('checkpoint')\n",
    "print(sugar_list)"
   ]
  },
  {
   "cell_type": "markdown",
   "id": "08823eaf-eac5-4a26-b2b3-e5b10ebe770e",
   "metadata": {},
   "source": [
    "### Get sugar name and filename"
   ]
  },
  {
   "cell_type": "code",
   "execution_count": 11,
   "id": "22983c3d-8ec7-4c9d-82fc-4222f6e34878",
   "metadata": {},
   "outputs": [
    {
     "name": "stdout",
     "output_type": "stream",
     "text": [
      "Suc selected, filename: chain_Suc.txt\n"
     ]
    }
   ],
   "source": [
    "#manually select position of the wanted sugar in sugar_list\n",
    "pos=7\n",
    "\n",
    "sugar=sugar_list[pos]\n",
    "filename=file_list[pos]\n",
    "print(f\"{sugar} selected, filename: {filename}\")"
   ]
  },
  {
   "cell_type": "markdown",
   "id": "8c18b818-2c80-4d33-a6b2-42532a88d859",
   "metadata": {},
   "source": [
    "file_path=os.path.realpath(filename)\n",
    "dirname=os.path.dirname(file_path)\n",
    "print(file_path)\n",
    "print(dirname)\n",
    "file_path2=os.path.join(\"./chains\",filename)\n",
    "print(file_path2)"
   ]
  },
  {
   "cell_type": "markdown",
   "id": "2f413963-ad30-4fe9-bae0-8ccb2084719f",
   "metadata": {},
   "source": [
    "### Select thinning and discard values for chain manipulation (thinning should be 1)"
   ]
  },
  {
   "cell_type": "code",
   "execution_count": 12,
   "id": "ea30e291-c963-4436-a898-6109ffbb9269",
   "metadata": {},
   "outputs": [],
   "source": [
    "discard=400\n",
    "thin=1"
   ]
  },
  {
   "cell_type": "code",
   "execution_count": 13,
   "id": "0a127f60-0ac7-46bf-a4ca-44bb4712733f",
   "metadata": {},
   "outputs": [
    {
     "name": "stdout",
     "output_type": "stream",
     "text": [
      "# Hyperparameters of Suc sugar are [n_steps n_walkers n_params ] = [50000 30 7 ]\n",
      " Applying discard 400 and thinning 1\n",
      "Flat chain detected\n",
      "Size 80.0872802734375 MB with shape: ((1499600, 7)) \n"
     ]
    }
   ],
   "source": [
    "file_path=os.path.join(\"./chains\",filename)\n",
    "\n",
    "with open(file_path,\"r\") as file: comment = file.readlines()[0]\n",
    "print(comment,f\"Applying discard {discard} and thinning {thin}\")\n",
    "values = [int(value) for value in re.findall('[0-9]+', comment)]\n",
    "n_steps = values[0]\n",
    "n_walker = values[1]\n",
    "n_params = values[2]\n",
    "loaded_data = np.loadtxt(file_path)\n",
    "flat_samples=loaded_data.reshape(n_steps*n_walker,n_params)\n",
    "flat_samples=thin_discard(flat_samples,discard,thin)\n",
    "print (f\"Size {flat_samples.nbytes/(1024**2)} MB with shape: ({flat_samples.shape}) \")\n",
    "\n",
    "#samples=loaded_data.reshape(n_steps,n_walker,n_params)\n",
    "#samples=thin_discard(samples,discard,thin)\n",
    "#print (f\"Size {samples.nbytes/(1024**2)} MB with shape: ({samples.shape}) \\n \")"
   ]
  },
  {
   "cell_type": "markdown",
   "id": "54d8e1c4-eda2-4ff6-8ece-5f0a68133185",
   "metadata": {},
   "source": [
    "# Load data (single sugar)"
   ]
  },
  {
   "cell_type": "code",
   "execution_count": 14,
   "id": "2e89d6b2-6fc9-48fc-b2d7-c4640ca4711d",
   "metadata": {},
   "outputs": [
    {
     "name": "stdout",
     "output_type": "stream",
     "text": [
      "['Ace' 'DMa' 'Glu' 'Gly' 'Lac' 'Pyr' 'Rha' 'Suc' 'Xyl']\n",
      "(199,) (199,)\n",
      "No initial mass for lineage 1505.0\n",
      "No initial mass for lineage 1575.0\n",
      "No initial mass for lineage 1586.0\n"
     ]
    }
   ],
   "source": [
    "fileName = 'UMIK_allSources.csv'\n",
    "path_to_directory = 'realData/'\n",
    "df = pd.read_csv(f'{path_to_directory + fileName}', index_col=False,usecols=[\"generationtime\",\"growth_rate\",\"division_ratio\",\"lineage_ID\",\"generation\",\"length_birth\",\"source\"])\n",
    "df = df.dropna()\n",
    "\n",
    "print(df[\"source\"].unique())\n",
    "df=df[df[\"source\"]==sugar]\n",
    "\n",
    "#INITIALIZE ARRAY OF INITIAL LENGTHS\n",
    "unique_lineages = df[\"lineage_ID\"].unique()#order from 0 to 99 lineages\n",
    "initial_mass = np.empty(len(unique_lineages))#create a void array with length \n",
    "temp_mask=np.ones(len(unique_lineages))\n",
    "print(unique_lineages.shape,initial_mass.shape)\n",
    "\n",
    "for j,i in enumerate(unique_lineages):\n",
    "    lineage_mask= (df['lineage_ID'] == i)\n",
    "    temp=df.loc[lineage_mask]\n",
    "    \n",
    "    temp=temp.loc[temp[\"generation\"]==0]#if first mass is not there this will be empty\n",
    "    if temp.empty:\n",
    "        df=df[df[\"lineage_ID\"]!=i]#drops all the rows of that lineage \n",
    "        print(\"No initial mass for lineage\",i)        \n",
    "    else: \n",
    "        initial_mass[j]=temp[\"length_birth\"].iloc[0]\n",
    "\n",
    "#print(initial_mass)\n",
    "#print(unique_lineages.shape)\n",
    "#a volte manca la massa iniziale di qualche lignaggio\n",
    "\n",
    "#remove lineages that have any generation time==0\n",
    "null_lineages=df[df[\"generationtime\"]==0][\"lineage_ID\"]\n",
    "\n",
    "for null_lineage in null_lineages:\n",
    "    df=df[df[\"lineage_ID\"]!=null_lineage]\n",
    "\n",
    "timest=df[\"generationtime\"].to_numpy()#small difference in the column name: in synthetic data is \"time_division\"\n",
    "alphast=df[\"growth_rate\"].to_numpy()#in synthetic data is \"alpha\"\n",
    "fst=df[\"division_ratio\"].to_numpy()#in synthetic data is \"f\"\n",
    "lineagest=df[\"lineage_ID\"].to_numpy(dtype=np.integer)#need an integer to use as index\n",
    "generationst=df[\"generation\"].to_numpy()#in synthetic data is generation_N\n",
    "massest=df[\"length_birth\"].to_numpy()#for check purposes, in synthetic data is mass_birth"
   ]
  },
  {
   "cell_type": "markdown",
   "id": "d924d0e0-e44c-477b-bdb7-2e6827cf7c43",
   "metadata": {},
   "source": [
    "# Compute Posterior"
   ]
  },
  {
   "cell_type": "code",
   "execution_count": null,
   "id": "5324af81-6ed1-4dd8-a334-bb19c9426b03",
   "metadata": {},
   "outputs": [],
   "source": [
    "flat_df=pd.DataFrame(flat_samples)\n",
    "#flat_df\n",
    "args=(initial_mass,lineagest,timest,alphast,fst)\n",
    "flat_df=pd.DataFrame(flat_samples)\n",
    "start = time.time()\n",
    "log_probability_values = flat_df.apply(func=model2.log_probability,args=args,raw=True, axis=1)\n",
    "end = time.time()\n",
    "print(\"Elapsed time:\",(end-start)/60,\"mins\")"
   ]
  },
  {
   "cell_type": "markdown",
   "id": "80b3b5a7-2310-4159-8207-613b1949a4e1",
   "metadata": {},
   "source": [
    "# Save modified chain"
   ]
  },
  {
   "cell_type": "code",
   "execution_count": null,
   "id": "120912ff-8912-4053-af2e-64e6090055b7",
   "metadata": {},
   "outputs": [],
   "source": [
    "flat_df[7]=log_probability_values\n",
    "flat_df=flat_df.to_numpy()\n",
    "print(flat_df.shape)"
   ]
  },
  {
   "cell_type": "code",
   "execution_count": null,
   "id": "99499d4d-1989-4832-b2e1-e79dd0da2e2d",
   "metadata": {},
   "outputs": [],
   "source": [
    "comment = f'Hyperparameters of {sugar} sugar are [n_steps n_walkers n_params ] = [{flat_df.shape[0]} {n_walker} {flat_df.shape[1]} ]'\n",
    "print(comment)\n",
    "path_to_directory = 'modchains/'\n",
    "fileName=f\"post_chain_{sugar}.txt\"\n",
    "\n",
    "np.savetxt(f'{path_to_directory + fileName}', flat_df,header=comment)"
   ]
  },
  {
   "cell_type": "code",
   "execution_count": null,
   "id": "37946d16-ecbc-4bb4-902c-8d4b0022413d",
   "metadata": {},
   "outputs": [],
   "source": []
  }
 ],
 "metadata": {
  "kernelspec": {
   "display_name": "R [conda env:base] *",
   "language": "R",
   "name": "conda-base-r"
  },
  "language_info": {
   "codemirror_mode": "r",
   "file_extension": ".r",
   "mimetype": "text/x-r-source",
   "name": "R",
   "pygments_lexer": "r",
   "version": "3.6.1"
  }
 },
 "nbformat": 4,
 "nbformat_minor": 5
}
